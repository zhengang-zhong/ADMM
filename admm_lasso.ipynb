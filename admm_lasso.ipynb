{
 "cells": [
  {
   "cell_type": "code",
   "execution_count": 1,
   "metadata": {},
   "outputs": [],
   "source": [
    "from admm_lasso import admm_lasso, plot\n",
    "import numpy as np\n",
    "from scipy import sparse"
   ]
  },
  {
   "cell_type": "code",
   "execution_count": 2,
   "metadata": {},
   "outputs": [],
   "source": [
    "N_sample = 5000    #  Number of samples\n",
    "Nx = 1500    #  Number of regressor\n",
    "A = np.random.randn(N_sample,Nx)\n",
    "A = np.dot(A, sparse.spdiags(1/np.sqrt(sum(np.multiply(A, A))), 0, Nx, Nx).todense())  # make it symmetric and normalize column\n",
    "\n",
    "\n",
    "\n",
    "x0 = np.random.randn(Nx,1)\n",
    "indices = np.random.choice(np.arange(x0.size), replace=False,\n",
    "                           size=int(x0.size * 0.8))\n",
    "x0[indices] = 0\n",
    "\n",
    "b = A @ x0 + np.sqrt(0.001)*np.random.randn(N_sample, 1)\n",
    "\n",
    "lambda_max = np.linalg.norm(np.dot(A.T, b), np.inf)\n",
    "lambda_ = 0.1*lambda_max\n",
    "\n",
    "rho = 1.0\n",
    "alpha = 1.0    #  Over-relaxation: select alpha in [1.5, 1.8] to improve covergence.\n",
    "\n",
    "N_iter = 100;\n",
    "\n",
    "err, err_r = admm_lasso(A, b, x0, alpha = alpha, rho = rho, lambda_ = lambda_, N_iter = N_iter)"
   ]
  },
  {
   "cell_type": "code",
   "execution_count": 3,
   "metadata": {},
   "outputs": [
    {
     "data": {
      "image/png": "[encoded data removed]",
      "text/plain": [
       "<Figure size 432x288 with 2 Axes>"
      ]
     },
     "metadata": {
      "needs_background": "light"
     },
     "output_type": "display_data"
    }
   ],
   "source": [
    "plot(err, err_r)"
   ]
  }
 ],
 "metadata": {
  "kernelspec": {
   "display_name": "Python 3",
   "language": "python",
   "name": "python3"
  },
  "language_info": {
   "codemirror_mode": {
    "name": "ipython",
    "version": 3
   },
   "file_extension": ".py",
   "mimetype": "text/x-python",
   "name": "python",
   "nbconvert_exporter": "python",
   "pygments_lexer": "ipython3",
   "version": "3.7.7"
  }
 },
 "nbformat": 4,
 "nbformat_minor": 4
}
