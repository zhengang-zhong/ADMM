{
 "cells": [
  {
   "cell_type": "code",
   "execution_count": null,
   "metadata": {},
   "outputs": [],
   "source": [
    "from admm_lasso import admm_lasso, plot\n",
    "import numpy as np\n",
    "from scipy import sparse"
   ]
  },
  {
   "cell_type": "code",
   "execution_count": null,
   "metadata": {},
   "outputs": [],
   "source": [
    "def create_prox_func(Nx,f_func):\n",
    "\n",
    "    x = ca.SX.sym(\"x\",Nx)\n",
    "    v = ca.SX.sym(\"v\",Nx)\n",
    "    lambda_ = ca.SX.sym(\"lambda\",1)\n",
    "    \n",
    "    f = f_func(x)\n",
    "    f_prox = f + 1/2 * lambda_ * ca.norm_2(x - v) ** 2\n",
    "    f_prox_func = ca.Function(\"f_prox_func\", [lambda_, x, v], [f_prox])\n",
    "\n",
    "    p = ca.vertcat(v,lambda_)\n",
    "    \n",
    "    # Define proximal solver\n",
    "    solver_opt = {}\n",
    "    solver_opt['print_time'] = False\n",
    "    solver_opt['ipopt'] = {\n",
    "        'max_iter': 500,\n",
    "        'print_level': 1,\n",
    "        'acceptable_tol': 1e-6,\n",
    "        'acceptable_obj_change_tol': 1e-6\n",
    "    }\n",
    "\n",
    "    nlp = {'x':x, 'f':f_prox, 'p': p}\n",
    "    solver = ca.nlpsol('solver', 'ipopt', nlp, solver_opt)\n",
    "    return solver"
   ]
  },
  {
   "cell_type": "code",
   "execution_count": null,
   "metadata": {},
   "outputs": [],
   "source": [
    "lambda_ = ca.SX.sym(\"lambda\",1)   \n",
    "Nx = 2\n",
    "f_func = ...\n",
    "f_prox_solver = create_prox_func(Nx,f_func)\n",
    "g_func = ...\n",
    "g_prox_solver = create_prox_func(Nx,g_func)"
   ]
  }
 ],
 "metadata": {
  "kernelspec": {
   "display_name": "Python 3",
   "language": "python",
   "name": "python3"
  },
  "language_info": {
   "codemirror_mode": {
    "name": "ipython",
    "version": 3
   },
   "file_extension": ".py",
   "mimetype": "text/x-python",
   "name": "python",
   "nbconvert_exporter": "python",
   "pygments_lexer": "ipython3",
   "version": "3.7.7"
  }
 },
 "nbformat": 4,
 "nbformat_minor": 4
}
